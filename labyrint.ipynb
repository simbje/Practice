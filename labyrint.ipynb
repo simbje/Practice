{
 "cells": [
  {
   "cell_type": "code",
   "execution_count": null,
   "metadata": {},
   "outputs": [],
   "source": [
    "'''\n",
    "    Prosjekt for å lære python\n",
    "    Lage 1. algoritme\n",
    "    badass programmering\n",
    "    laste alt opp i github via commandline\n",
    "\n",
    "    Følger denne tutorialen her:\n",
    "    https://medium.com/swlh/fun-with-python-1-maze-generator-931639b4fb7e\n",
    "\n",
    " '''\n",
    "\n",
    "\n",
    "\n"
   ]
  },
  {
   "cell_type": "code",
   "execution_count": 2,
   "metadata": {},
   "outputs": [],
   "source": [
    "# Prerequisites\n",
    "\n",
    "\n",
    "from colorama import init, Fore\n",
    "import random"
   ]
  },
  {
   "cell_type": "code",
   "execution_count": 4,
   "metadata": {},
   "outputs": [
    {
     "ename": "NameError",
     "evalue": "name 'maze' is not defined",
     "output_type": "error",
     "traceback": [
      "\u001b[1;31m---------------------------------------------------------------------------\u001b[0m",
      "\u001b[1;31mNameError\u001b[0m                                 Traceback (most recent call last)",
      "Cell \u001b[1;32mIn [4], line 55\u001b[0m\n\u001b[0;32m     51\u001b[0m \u001b[39mif\u001b[39;00m starting_width \u001b[39m==\u001b[39m width\u001b[39m-\u001b[39m\u001b[39m1\u001b[39m:\n\u001b[0;32m     52\u001b[0m     starting_width \u001b[39m-\u001b[39m\u001b[39m=\u001b[39m \u001b[39m1\u001b[39m\n\u001b[1;32m---> 55\u001b[0m maze[starting_height][starting_width] \u001b[39m=\u001b[39m cell\n\u001b[0;32m     56\u001b[0m walls \u001b[39m=\u001b[39m []\n\u001b[0;32m     57\u001b[0m walls\u001b[39m.\u001b[39mappend([starting_height\u001b[39m-\u001b[39m\u001b[39m1\u001b[39m, starting_width])\n",
      "\u001b[1;31mNameError\u001b[0m: name 'maze' is not defined"
     ]
    }
   ],
   "source": [
    "# Kode # alg labyrint\n",
    "\n",
    "# definer variabler til lab\n",
    "cell = \"c\"\n",
    "wall = \"w\"\n",
    "\n",
    "# Definer lab\n",
    "\n",
    "def init_maze(width, height):\n",
    "    maze = []\n",
    "    for i in range(0,height):\n",
    "        line = []\n",
    "        for j in range(0, width):\n",
    "            line.append('u')\n",
    "        maze.append(line)\n",
    "    return maze\n",
    "\n",
    "\n",
    "# print og skap lab\n",
    "\n",
    "# størrelse\n",
    "height=11\n",
    "width=27\n",
    "\n",
    "def print_maze(maze):\n",
    "    for i in range(0,len(maze)):\n",
    "        for j in range(0,len(maze[0])):\n",
    "            if maze [i][j] == 'u':\n",
    "                print(Fore.WHITE,f'{maze[i][j]}')\n",
    "            elif maze[i][j] == 'c':\n",
    "                print(Fore.GREEN, f'{maze[i][j]}', end=\"\")\n",
    "            else:\n",
    "                print(Fore.RED, f'{maze[i][j]}', end=\"\")\n",
    "        print('\\n')\n",
    "\n",
    "\n",
    "\n",
    "\n",
    "#starting points\n",
    "starting_height = int(random.random()*height)\n",
    "starting_width = int(random.random()*width)\n",
    "\n",
    "# kan ikke starte på enden av lab\n",
    "\n",
    "if starting_height == 0:\n",
    "    starting_height += 1\n",
    "if starting_height == height-1:\n",
    "    starting_height -= 1\n",
    "if starting_width == 0:\n",
    "    starting_width += 1\n",
    "if starting_width == width-1:\n",
    "    starting_width -= 1\n",
    "\n",
    "\n",
    "maze[starting_height][starting_width] = cell\n",
    "walls = []\n",
    "walls.append([starting_height-1, starting_width])\n",
    "walls.append([starting_height, starting_width-1])\n",
    "walls.append([starting_height, starting_width+1])\n",
    "walls.append([starting_height+1, starting_width])\n",
    "\n",
    "\n",
    "maze[starting_height-1][starting_width] = wall\n",
    "maze[starting_height][starting_width-1] = wall\n",
    "maze[starting_height][starting_width+1] = wall\n",
    "maze[starting_height+1][starting_width] = wall\n",
    "\n",
    "\n"
   ]
  },
  {
   "cell_type": "code",
   "execution_count": null,
   "metadata": {},
   "outputs": [],
   "source": []
  },
  {
   "cell_type": "code",
   "execution_count": null,
   "metadata": {},
   "outputs": [],
   "source": []
  }
 ],
 "metadata": {
  "kernelspec": {
   "display_name": "Python 3.9.13 64-bit (microsoft store)",
   "language": "python",
   "name": "python3"
  },
  "language_info": {
   "codemirror_mode": {
    "name": "ipython",
    "version": 3
   },
   "file_extension": ".py",
   "mimetype": "text/x-python",
   "name": "python",
   "nbconvert_exporter": "python",
   "pygments_lexer": "ipython3",
   "version": "3.9.13"
  },
  "orig_nbformat": 4,
  "vscode": {
   "interpreter": {
    "hash": "42c38350bd957df4d2678d4ff5e22b85fcbdedbc4708e90614a856764c313364"
   }
  }
 },
 "nbformat": 4,
 "nbformat_minor": 2
}
